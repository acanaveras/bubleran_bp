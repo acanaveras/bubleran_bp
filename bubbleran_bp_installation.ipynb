{
 "cells": [
  {
   "cell_type": "markdown",
   "id": "dece16f3-f5fa-4d68-962a-552e51e3b88f",
   "metadata": {},
   "source": [
    "# Telco Planner Blueprint Installation Guide \n",
    "Please see below the instructions to install and deploy this Blueprint.\n",
    "## Step 1 - Clone and install bubbleran_bp repository"
   ]
  },
  {
   "cell_type": "code",
   "execution_count": null,
   "id": "7384ba13-8c8f-40b0-a703-576804ba28a7",
   "metadata": {},
   "outputs": [],
   "source": [
    "!git clone https://gitlab.com/sduttanv/bubbleran_bp.git"
   ]
  },
  {
   "cell_type": "markdown",
   "id": "4b86aac2-36e9-413d-82f6-af13e2b76144",
   "metadata": {},
   "source": [
    "## Step 2 - Edit your config.yaml file"
   ]
  },
  {
   "cell_type": "markdown",
   "id": "8f2ea7fb-b458-4bac-ba23-7252fce52f78",
   "metadata": {},
   "source": [
    "Edit the /bubbleran_bp/blueprint_historical_kpi/config.yaml and add the API KEY and review the other configuration parameters for the blue print."
   ]
  },
  {
   "cell_type": "markdown",
   "id": "1f83a2b1-3316-4e54-8247-2acf6a1af5ef",
   "metadata": {},
   "source": [
    "## Step 3 - Set up your NVIDIA API key "
   ]
  },
  {
   "cell_type": "markdown",
   "id": "bf32910d-7cfc-44ab-83e1-ea03d513562f",
   "metadata": {},
   "source": [
    "Crate an environment variable with your NVIDIA API Key to get access to build.nvidia.com LLM API calls. You can also download the NVIDIA NIMs with this key."
   ]
  },
  {
   "cell_type": "code",
   "execution_count": null,
   "id": "d813dfbb-b008-49e3-bfc9-1a357d5b437b",
   "metadata": {},
   "outputs": [],
   "source": [
    "import yaml\n",
    "import os\n",
    "NGC_API_KEY=yaml.safe_load(open('bubbleran_bp/config.yaml', 'r'))['nvidia_api_key']\n",
    "os.environ[\"NGC_API_KEY\"] = NGC_API_KEY"
   ]
  },
  {
   "cell_type": "markdown",
   "id": "d5fab376-0d62-4bad-a590-30a309edee8f",
   "metadata": {},
   "source": [
    "## Step 4 - Create your virtual Python environment for this blueprint and install requirements.txt"
   ]
  },
  {
   "cell_type": "markdown",
   "id": "d4ff788d-e659-4140-89be-a144454b13d7",
   "metadata": {},
   "source": [
    "These commands wil create a python environment and will install all the libraries that are required to run this Blueprint"
   ]
  },
  {
   "cell_type": "code",
   "execution_count": null,
   "id": "e2078d2e-97aa-4289-b797-6b26fff1921a",
   "metadata": {},
   "outputs": [],
   "source": [
    "!cd bubbleran_bp\n",
    "!pip install virtualenv\n",
    "!python3.10 -m virtualenv bp_env\n",
    "!source bp_env/bin/activate && pip install -r ~/bubbleran_bp/requirements.txt"
   ]
  },
  {
   "cell_type": "markdown",
   "id": "a2ae35d7-ea69-4910-8b38-4208bf968db0",
   "metadata": {},
   "source": [
    "## Step 5 - Execute the UI"
   ]
  },
  {
   "cell_type": "markdown",
   "id": "d05cca3c-7ed0-4f86-81eb-95959c18c650",
   "metadata": {},
   "source": [
    "The blueprint will be accessible with the port 8501. "
   ]
  },
  {
   "cell_type": "code",
   "execution_count": null,
   "id": "09132995-7745-458c-be2b-dee92046bdc6",
   "metadata": {},
   "outputs": [],
   "source": [
    "!cd ~/bubbleran_bp/agentic_llm_workflow && /home/ubuntu/bp_env/bin/streamlit run agents.py"
   ]
  }
 ],
 "metadata": {
  "kernelspec": {
   "display_name": "Python 3 (ipykernel)",
   "language": "python",
   "name": "python3"
  },
  "language_info": {
   "codemirror_mode": {
    "name": "ipython",
    "version": 3
   },
   "file_extension": ".py",
   "mimetype": "text/x-python",
   "name": "python",
   "nbconvert_exporter": "python",
   "pygments_lexer": "ipython3",
   "version": "3.10.12"
  }
 },
 "nbformat": 4,
 "nbformat_minor": 5
}
