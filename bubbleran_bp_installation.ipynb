{
 "cells": [
  {
   "cell_type": "markdown",
   "id": "dece16f3-f5fa-4d68-962a-552e51e3b88f",
   "metadata": {},
   "source": [
    "# Telco Planner Blueprint Installation Guide \n",
    "Please see below the instructions to install and deploy this Blueprint.\n",
    "## Step 1 - Clone and install bubbleran_bp repository"
   ]
  },
  {
   "cell_type": "code",
   "execution_count": null,
   "id": "7384ba13-8c8f-40b0-a703-576804ba28a7",
   "metadata": {},
   "outputs": [],
   "source": [
    "!git clone https://gitlab.com/sduttanv/bubbleran_bp.git"
   ]
  },
  {
   "cell_type": "markdown",
   "id": "4b86aac2-36e9-413d-82f6-af13e2b76144",
   "metadata": {},
   "source": [
    "## Step 2 - Edit your config.yaml file"
   ]
  },
  {
   "cell_type": "markdown",
   "id": "8f2ea7fb-b458-4bac-ba23-7252fce52f78",
   "metadata": {},
   "source": [
    "Edit the /bubbleran_bp/blueprint_historical_kpi/config.yaml and add the API KEY and review the other configuration parameters for the blue print."
   ]
  },
  {
   "cell_type": "code",
   "execution_count": null,
   "id": "e4b10c30-5a4e-4fb7-a174-e3cff6d46f1f",
   "metadata": {},
   "outputs": [],
   "source": [
    "!cd bubbleran_bp && docker compose up --build"
   ]
  }
 ],
 "metadata": {
  "kernelspec": {
   "display_name": "Python 3 (ipykernel)",
   "language": "python",
   "name": "python3"
  },
  "language_info": {
   "codemirror_mode": {
    "name": "ipython",
    "version": 3
   },
   "file_extension": ".py",
   "mimetype": "text/x-python",
   "name": "python",
   "nbconvert_exporter": "python",
   "pygments_lexer": "ipython3",
   "version": "3.10.12"
  }
 },
 "nbformat": 4,
 "nbformat_minor": 5
}
